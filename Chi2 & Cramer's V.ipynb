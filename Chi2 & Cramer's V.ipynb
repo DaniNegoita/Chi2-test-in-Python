{
 "cells": [
  {
   "cell_type": "markdown",
   "id": "ad3f506e",
   "metadata": {},
   "source": [
    "### Codebook\n",
    "\n",
    "Voted last election (vote): 1 = Yes, 2 = No, 3 = Not eligible to vote, 7 = Refusal, 8 = Don't know, 7 = No answer. \n",
    "\n",
    "Internet use (netusoft): 1 = Never , 2 = Only occasionally , 3 = A few times a week, 4 = Most days, 5 = Every day, 7 = refusal,                         8 = don't know, 7 = no answer. \n"
   ]
  },
  {
   "cell_type": "code",
   "execution_count": 1,
   "id": "f63a70c4",
   "metadata": {},
   "outputs": [],
   "source": [
    "import os\n",
    "import pandas as pd\n",
    "import researchpy as rp\n",
    "import numpy as np\n",
    "import seaborn as sn"
   ]
  },
  {
   "cell_type": "code",
   "execution_count": 2,
   "id": "7497e188",
   "metadata": {},
   "outputs": [
    {
     "data": {
      "text/plain": [
       "'C:\\\\Users\\\\danin'"
      ]
     },
     "execution_count": 2,
     "metadata": {},
     "output_type": "execute_result"
    }
   ],
   "source": [
    "os.getcwd()"
   ]
  },
  {
   "cell_type": "code",
   "execution_count": 3,
   "id": "b45c39fd",
   "metadata": {},
   "outputs": [],
   "source": [
    "path = 'C:\\\\Users\\\\danin\\\\Desktop\\\\Datasets\\\\'"
   ]
  },
  {
   "cell_type": "code",
   "execution_count": 4,
   "id": "8914a91d",
   "metadata": {},
   "outputs": [
    {
     "name": "stderr",
     "output_type": "stream",
     "text": [
      "C:\\Users\\danin\\anaconda3\\lib\\site-packages\\IPython\\core\\interactiveshell.py:3444: DtypeWarning: Columns (159,165,167,578) have mixed types.Specify dtype option on import or set low_memory=False.\n",
      "  exec(code_obj, self.user_global_ns, self.user_ns)\n"
     ]
    }
   ],
   "source": [
    "df = pd.read_csv(path +'ESS10.csv')"
   ]
  },
  {
   "cell_type": "code",
   "execution_count": 5,
   "id": "f7e01cf8",
   "metadata": {},
   "outputs": [
    {
     "data": {
      "text/html": [
       "<div>\n",
       "<style scoped>\n",
       "    .dataframe tbody tr th:only-of-type {\n",
       "        vertical-align: middle;\n",
       "    }\n",
       "\n",
       "    .dataframe tbody tr th {\n",
       "        vertical-align: top;\n",
       "    }\n",
       "\n",
       "    .dataframe thead th {\n",
       "        text-align: right;\n",
       "    }\n",
       "</style>\n",
       "<table border=\"1\" class=\"dataframe\">\n",
       "  <thead>\n",
       "    <tr style=\"text-align: right;\">\n",
       "      <th></th>\n",
       "      <th>name</th>\n",
       "      <th>essround</th>\n",
       "      <th>edition</th>\n",
       "      <th>proddate</th>\n",
       "      <th>idno</th>\n",
       "      <th>cntry</th>\n",
       "      <th>dweight</th>\n",
       "      <th>pspwght</th>\n",
       "      <th>pweight</th>\n",
       "      <th>anweight</th>\n",
       "      <th>...</th>\n",
       "      <th>hinwe</th>\n",
       "      <th>iinwe</th>\n",
       "      <th>kinwe</th>\n",
       "      <th>vinwe</th>\n",
       "      <th>inwde</th>\n",
       "      <th>jinws</th>\n",
       "      <th>jinwe</th>\n",
       "      <th>inwtm</th>\n",
       "      <th>mode</th>\n",
       "      <th>domain</th>\n",
       "    </tr>\n",
       "  </thead>\n",
       "  <tbody>\n",
       "    <tr>\n",
       "      <th>0</th>\n",
       "      <td>ESS10e02_2</td>\n",
       "      <td>10</td>\n",
       "      <td>2.2</td>\n",
       "      <td>21.12.2022</td>\n",
       "      <td>10002</td>\n",
       "      <td>BG</td>\n",
       "      <td>1.939384</td>\n",
       "      <td>1.290706</td>\n",
       "      <td>0.217716</td>\n",
       "      <td>0.281008</td>\n",
       "      <td>...</td>\n",
       "      <td>2021-07-24 13:11:27</td>\n",
       "      <td>2021-07-24 13:11:35</td>\n",
       "      <td>2021-07-24 13:12:20</td>\n",
       "      <td>2021-07-24 13:12:21</td>\n",
       "      <td>2021-07-24 13:13:01</td>\n",
       "      <td>2021-07-24 13:12:33</td>\n",
       "      <td>2021-07-24 13:13:06</td>\n",
       "      <td>53.0</td>\n",
       "      <td>1</td>\n",
       "      <td>NaN</td>\n",
       "    </tr>\n",
       "    <tr>\n",
       "      <th>1</th>\n",
       "      <td>ESS10e02_2</td>\n",
       "      <td>10</td>\n",
       "      <td>2.2</td>\n",
       "      <td>21.12.2022</td>\n",
       "      <td>10006</td>\n",
       "      <td>BG</td>\n",
       "      <td>1.651595</td>\n",
       "      <td>1.430878</td>\n",
       "      <td>0.217716</td>\n",
       "      <td>0.311526</td>\n",
       "      <td>...</td>\n",
       "      <td>2021-08-28 08:07:22</td>\n",
       "      <td>2021-08-28 08:07:39</td>\n",
       "      <td>2021-08-28 08:14:39</td>\n",
       "      <td>2021-08-28 08:14:43</td>\n",
       "      <td>2021-08-28 08:36:39</td>\n",
       "      <td>2021-08-28 08:25:43</td>\n",
       "      <td>2021-08-28 08:36:49</td>\n",
       "      <td>36.0</td>\n",
       "      <td>1</td>\n",
       "      <td>NaN</td>\n",
       "    </tr>\n",
       "  </tbody>\n",
       "</table>\n",
       "<p>2 rows × 586 columns</p>\n",
       "</div>"
      ],
      "text/plain": [
       "         name  essround  edition    proddate   idno cntry   dweight   pspwght  \\\n",
       "0  ESS10e02_2        10      2.2  21.12.2022  10002    BG  1.939384  1.290706   \n",
       "1  ESS10e02_2        10      2.2  21.12.2022  10006    BG  1.651595  1.430878   \n",
       "\n",
       "    pweight  anweight  ...                hinwe                iinwe  \\\n",
       "0  0.217716  0.281008  ...  2021-07-24 13:11:27  2021-07-24 13:11:35   \n",
       "1  0.217716  0.311526  ...  2021-08-28 08:07:22  2021-08-28 08:07:39   \n",
       "\n",
       "                 kinwe                vinwe                inwde  \\\n",
       "0  2021-07-24 13:12:20  2021-07-24 13:12:21  2021-07-24 13:13:01   \n",
       "1  2021-08-28 08:14:39  2021-08-28 08:14:43  2021-08-28 08:36:39   \n",
       "\n",
       "                 jinws                jinwe  inwtm  mode  domain  \n",
       "0  2021-07-24 13:12:33  2021-07-24 13:13:06   53.0     1     NaN  \n",
       "1  2021-08-28 08:25:43  2021-08-28 08:36:49   36.0     1     NaN  \n",
       "\n",
       "[2 rows x 586 columns]"
      ]
     },
     "execution_count": 5,
     "metadata": {},
     "output_type": "execute_result"
    }
   ],
   "source": [
    "df.head(2)"
   ]
  },
  {
   "cell_type": "code",
   "execution_count": 6,
   "id": "c2ec2576",
   "metadata": {},
   "outputs": [
    {
     "data": {
      "text/html": [
       "<div>\n",
       "<style scoped>\n",
       "    .dataframe tbody tr th:only-of-type {\n",
       "        vertical-align: middle;\n",
       "    }\n",
       "\n",
       "    .dataframe tbody tr th {\n",
       "        vertical-align: top;\n",
       "    }\n",
       "\n",
       "    .dataframe thead th {\n",
       "        text-align: right;\n",
       "    }\n",
       "</style>\n",
       "<table border=\"1\" class=\"dataframe\">\n",
       "  <thead>\n",
       "    <tr style=\"text-align: right;\">\n",
       "      <th></th>\n",
       "      <th>name</th>\n",
       "      <th>essround</th>\n",
       "      <th>edition</th>\n",
       "      <th>proddate</th>\n",
       "      <th>idno</th>\n",
       "      <th>cntry</th>\n",
       "      <th>dweight</th>\n",
       "      <th>pspwght</th>\n",
       "      <th>pweight</th>\n",
       "      <th>anweight</th>\n",
       "      <th>...</th>\n",
       "      <th>hinwe</th>\n",
       "      <th>iinwe</th>\n",
       "      <th>kinwe</th>\n",
       "      <th>vinwe</th>\n",
       "      <th>inwde</th>\n",
       "      <th>jinws</th>\n",
       "      <th>jinwe</th>\n",
       "      <th>inwtm</th>\n",
       "      <th>mode</th>\n",
       "      <th>domain</th>\n",
       "    </tr>\n",
       "  </thead>\n",
       "  <tbody>\n",
       "    <tr>\n",
       "      <th>33349</th>\n",
       "      <td>ESS10e02_2</td>\n",
       "      <td>10</td>\n",
       "      <td>2.2</td>\n",
       "      <td>21.12.2022</td>\n",
       "      <td>27846</td>\n",
       "      <td>SK</td>\n",
       "      <td>0.854279</td>\n",
       "      <td>0.624287</td>\n",
       "      <td>0.3238</td>\n",
       "      <td>0.202144</td>\n",
       "      <td>...</td>\n",
       "      <td>2021-07-21 14:06:56</td>\n",
       "      <td>2021-07-21 14:08:48</td>\n",
       "      <td>2021-07-21 14:13:06</td>\n",
       "      <td>2021-07-21 14:14:41</td>\n",
       "      <td>2021-07-21 14:17:31</td>\n",
       "      <td>2021-07-21 14:16:38</td>\n",
       "      <td>2021-07-21 14:18:38</td>\n",
       "      <td>43.0</td>\n",
       "      <td>1</td>\n",
       "      <td>1.0</td>\n",
       "    </tr>\n",
       "    <tr>\n",
       "      <th>33350</th>\n",
       "      <td>ESS10e02_2</td>\n",
       "      <td>10</td>\n",
       "      <td>2.2</td>\n",
       "      <td>21.12.2022</td>\n",
       "      <td>27858</td>\n",
       "      <td>SK</td>\n",
       "      <td>0.702292</td>\n",
       "      <td>0.581970</td>\n",
       "      <td>0.3238</td>\n",
       "      <td>0.188442</td>\n",
       "      <td>...</td>\n",
       "      <td>2021-07-11 10:37:13</td>\n",
       "      <td>2021-07-11 10:40:30</td>\n",
       "      <td>2021-07-11 10:45:47</td>\n",
       "      <td>2021-07-11 10:48:52</td>\n",
       "      <td>2021-07-11 10:52:58</td>\n",
       "      <td>2021-07-11 10:52:10</td>\n",
       "      <td>2021-07-11 10:54:10</td>\n",
       "      <td>49.0</td>\n",
       "      <td>1</td>\n",
       "      <td>1.0</td>\n",
       "    </tr>\n",
       "  </tbody>\n",
       "</table>\n",
       "<p>2 rows × 586 columns</p>\n",
       "</div>"
      ],
      "text/plain": [
       "             name  essround  edition    proddate   idno cntry   dweight  \\\n",
       "33349  ESS10e02_2        10      2.2  21.12.2022  27846    SK  0.854279   \n",
       "33350  ESS10e02_2        10      2.2  21.12.2022  27858    SK  0.702292   \n",
       "\n",
       "        pspwght  pweight  anweight  ...                hinwe  \\\n",
       "33349  0.624287   0.3238  0.202144  ...  2021-07-21 14:06:56   \n",
       "33350  0.581970   0.3238  0.188442  ...  2021-07-11 10:37:13   \n",
       "\n",
       "                     iinwe                kinwe                vinwe  \\\n",
       "33349  2021-07-21 14:08:48  2021-07-21 14:13:06  2021-07-21 14:14:41   \n",
       "33350  2021-07-11 10:40:30  2021-07-11 10:45:47  2021-07-11 10:48:52   \n",
       "\n",
       "                     inwde                jinws                jinwe  inwtm  \\\n",
       "33349  2021-07-21 14:17:31  2021-07-21 14:16:38  2021-07-21 14:18:38   43.0   \n",
       "33350  2021-07-11 10:52:58  2021-07-11 10:52:10  2021-07-11 10:54:10   49.0   \n",
       "\n",
       "       mode  domain  \n",
       "33349     1     1.0  \n",
       "33350     1     1.0  \n",
       "\n",
       "[2 rows x 586 columns]"
      ]
     },
     "execution_count": 6,
     "metadata": {},
     "output_type": "execute_result"
    }
   ],
   "source": [
    "df.tail(2)"
   ]
  },
  {
   "cell_type": "code",
   "execution_count": 7,
   "id": "c4489bad",
   "metadata": {},
   "outputs": [],
   "source": [
    "#Subsetting only the Dutch cases, vote, and internet use\n",
    "ess_nl=df[['vote','netusoft','cntry']][df.cntry=='NL']"
   ]
  },
  {
   "cell_type": "code",
   "execution_count": 8,
   "id": "cf08ee4e",
   "metadata": {},
   "outputs": [
    {
     "data": {
      "text/html": [
       "<div>\n",
       "<style scoped>\n",
       "    .dataframe tbody tr th:only-of-type {\n",
       "        vertical-align: middle;\n",
       "    }\n",
       "\n",
       "    .dataframe tbody tr th {\n",
       "        vertical-align: top;\n",
       "    }\n",
       "\n",
       "    .dataframe thead th {\n",
       "        text-align: right;\n",
       "    }\n",
       "</style>\n",
       "<table border=\"1\" class=\"dataframe\">\n",
       "  <thead>\n",
       "    <tr style=\"text-align: right;\">\n",
       "      <th></th>\n",
       "      <th>vote</th>\n",
       "      <th>netusoft</th>\n",
       "      <th>cntry</th>\n",
       "    </tr>\n",
       "  </thead>\n",
       "  <tbody>\n",
       "    <tr>\n",
       "      <th>25962</th>\n",
       "      <td>1</td>\n",
       "      <td>5</td>\n",
       "      <td>NL</td>\n",
       "    </tr>\n",
       "    <tr>\n",
       "      <th>25963</th>\n",
       "      <td>1</td>\n",
       "      <td>5</td>\n",
       "      <td>NL</td>\n",
       "    </tr>\n",
       "    <tr>\n",
       "      <th>25964</th>\n",
       "      <td>1</td>\n",
       "      <td>5</td>\n",
       "      <td>NL</td>\n",
       "    </tr>\n",
       "    <tr>\n",
       "      <th>25965</th>\n",
       "      <td>2</td>\n",
       "      <td>5</td>\n",
       "      <td>NL</td>\n",
       "    </tr>\n",
       "  </tbody>\n",
       "</table>\n",
       "</div>"
      ],
      "text/plain": [
       "       vote  netusoft cntry\n",
       "25962     1         5    NL\n",
       "25963     1         5    NL\n",
       "25964     1         5    NL\n",
       "25965     2         5    NL"
      ]
     },
     "execution_count": 8,
     "metadata": {},
     "output_type": "execute_result"
    }
   ],
   "source": [
    "ess_nl.head(4)"
   ]
  },
  {
   "cell_type": "code",
   "execution_count": 9,
   "id": "5808525c",
   "metadata": {},
   "outputs": [
    {
     "data": {
      "text/html": [
       "<div>\n",
       "<style scoped>\n",
       "    .dataframe tbody tr th:only-of-type {\n",
       "        vertical-align: middle;\n",
       "    }\n",
       "\n",
       "    .dataframe tbody tr th {\n",
       "        vertical-align: top;\n",
       "    }\n",
       "\n",
       "    .dataframe thead th {\n",
       "        text-align: right;\n",
       "    }\n",
       "</style>\n",
       "<table border=\"1\" class=\"dataframe\">\n",
       "  <thead>\n",
       "    <tr style=\"text-align: right;\">\n",
       "      <th></th>\n",
       "      <th>vote</th>\n",
       "      <th>netusoft</th>\n",
       "      <th>cntry</th>\n",
       "    </tr>\n",
       "  </thead>\n",
       "  <tbody>\n",
       "    <tr>\n",
       "      <th>27428</th>\n",
       "      <td>1</td>\n",
       "      <td>5</td>\n",
       "      <td>NL</td>\n",
       "    </tr>\n",
       "    <tr>\n",
       "      <th>27429</th>\n",
       "      <td>2</td>\n",
       "      <td>5</td>\n",
       "      <td>NL</td>\n",
       "    </tr>\n",
       "    <tr>\n",
       "      <th>27430</th>\n",
       "      <td>2</td>\n",
       "      <td>5</td>\n",
       "      <td>NL</td>\n",
       "    </tr>\n",
       "    <tr>\n",
       "      <th>27431</th>\n",
       "      <td>3</td>\n",
       "      <td>5</td>\n",
       "      <td>NL</td>\n",
       "    </tr>\n",
       "  </tbody>\n",
       "</table>\n",
       "</div>"
      ],
      "text/plain": [
       "       vote  netusoft cntry\n",
       "27428     1         5    NL\n",
       "27429     2         5    NL\n",
       "27430     2         5    NL\n",
       "27431     3         5    NL"
      ]
     },
     "execution_count": 9,
     "metadata": {},
     "output_type": "execute_result"
    }
   ],
   "source": [
    "ess_nl.tail(4)"
   ]
  },
  {
   "cell_type": "code",
   "execution_count": 10,
   "id": "268b62f7",
   "metadata": {},
   "outputs": [
    {
     "data": {
      "text/plain": [
       "(1470, 3)"
      ]
     },
     "execution_count": 10,
     "metadata": {},
     "output_type": "execute_result"
    }
   ],
   "source": [
    "ess_nl.shape\n",
    "#1470 respondents"
   ]
  },
  {
   "cell_type": "code",
   "execution_count": 11,
   "id": "d5e79aae",
   "metadata": {},
   "outputs": [
    {
     "name": "stdout",
     "output_type": "stream",
     "text": [
      "Variable: vote    Data Type: int64 \n",
      "\n",
      " Number of Obs.: 1470 \n",
      " Number of missing obs.: 0 \n",
      " Percent missing: 0.0 \n",
      " Number of unique values: 4 \n",
      "\n",
      " Range: [1, 7] \n",
      " Mean: 1.2 \n",
      " Standard Deviation: 0.55 \n",
      " Mode: 1 \n",
      " 10th Percentile: 1.0 \n",
      " 25th Percentile: 1.0 \n",
      " 50th Percentile: 1.0 \n",
      " 75th Percentile: 1.0 \n",
      " 90th Percentile: 2.0 \n",
      "\n",
      "\n",
      "\n",
      "\n",
      "\n",
      "Variable: netusoft    Data Type: int64 \n",
      "\n",
      " Number of Obs.: 1470 \n",
      " Number of missing obs.: 0 \n",
      " Percent missing: 0.0 \n",
      " Number of unique values: 5 \n",
      "\n",
      " Range: [1, 5] \n",
      " Mean: 4.78 \n",
      " Standard Deviation: 0.74 \n",
      " Mode: 5 \n",
      " 10th Percentile: 4.0 \n",
      " 25th Percentile: 5.0 \n",
      " 50th Percentile: 5.0 \n",
      " 75th Percentile: 5.0 \n",
      " 90th Percentile: 5.0 \n",
      "\n",
      "\n",
      "\n",
      "\n",
      "\n",
      "Variable: cntry    Data Type: object \n",
      "\n",
      " Number of Obs.: 1470 \n",
      " Number of missing obs.: 0 \n",
      " Percent missing: 0.0 \n",
      " Number of unique values: 1 \n",
      "\n",
      " Data Values and Counts: \n",
      " \n",
      " Values  Frequency\n",
      "    NL       1470\n",
      "\n",
      "\n",
      "\n",
      "\n"
     ]
    }
   ],
   "source": [
    "rp.codebook(ess_nl)"
   ]
  },
  {
   "cell_type": "code",
   "execution_count": 12,
   "id": "8566d37c",
   "metadata": {},
   "outputs": [
    {
     "data": {
      "text/plain": [
       "count    1470.000000\n",
       "mean        1.202721\n",
       "std         0.549515\n",
       "min         1.000000\n",
       "25%         1.000000\n",
       "50%         1.000000\n",
       "75%         1.000000\n",
       "max         7.000000\n",
       "Name: vote, dtype: float64"
      ]
     },
     "execution_count": 12,
     "metadata": {},
     "output_type": "execute_result"
    }
   ],
   "source": [
    "#summary stats for vote\n",
    "ess_nl['vote'].describe()"
   ]
  },
  {
   "cell_type": "code",
   "execution_count": 13,
   "id": "35c29396",
   "metadata": {},
   "outputs": [
    {
     "data": {
      "text/plain": [
       "count    1470.000000\n",
       "mean        4.783673\n",
       "std         0.744944\n",
       "min         1.000000\n",
       "25%         5.000000\n",
       "50%         5.000000\n",
       "75%         5.000000\n",
       "max         5.000000\n",
       "Name: netusoft, dtype: float64"
      ]
     },
     "execution_count": 13,
     "metadata": {},
     "output_type": "execute_result"
    }
   ],
   "source": [
    "#Internet use\n",
    "ess_nl['netusoft'].describe()"
   ]
  },
  {
   "cell_type": "code",
   "execution_count": 14,
   "id": "b7623af5",
   "metadata": {},
   "outputs": [
    {
     "data": {
      "text/plain": [
       "1    1255\n",
       "2     140\n",
       "3      73\n",
       "7       2\n",
       "Name: vote, dtype: int64"
      ]
     },
     "execution_count": 14,
     "metadata": {},
     "output_type": "execute_result"
    }
   ],
   "source": [
    "ess_nl['vote'].value_counts().sort_index()"
   ]
  },
  {
   "cell_type": "code",
   "execution_count": 15,
   "id": "79d88153",
   "metadata": {},
   "outputs": [
    {
     "data": {
      "text/plain": [
       "1      33\n",
       "2      20\n",
       "3      25\n",
       "4      76\n",
       "5    1316\n",
       "Name: netusoft, dtype: int64"
      ]
     },
     "execution_count": 15,
     "metadata": {},
     "output_type": "execute_result"
    }
   ],
   "source": [
    "ess_nl['netusoft'].value_counts().sort_index()"
   ]
  },
  {
   "cell_type": "code",
   "execution_count": 16,
   "id": "e2a9aacc",
   "metadata": {},
   "outputs": [],
   "source": [
    "#Recode categorical variables. \n",
    "dictionary =  { 'vote': {1:'yes', 2:'no', 3: 'other' , 7: 'other'},  #Not eligible and Refusal to be set as missing\n",
    "               'netusoft':  { 1: 'never', 2: 'only occasionally', 3: 'a few times a week',\n",
    "                             4: 'most days', 5: 'every day'}}\n",
    "                  "
   ]
  },
  {
   "cell_type": "code",
   "execution_count": 17,
   "id": "eebc293e",
   "metadata": {},
   "outputs": [],
   "source": [
    "#Replace with the created dictionary\n",
    "ess_nl.replace(dictionary, inplace=True)"
   ]
  },
  {
   "cell_type": "code",
   "execution_count": 18,
   "id": "b7d378cd",
   "metadata": {},
   "outputs": [],
   "source": [
    "ess_nl.vote[ess_nl.vote == 'other'] = np.nan"
   ]
  },
  {
   "cell_type": "code",
   "execution_count": 19,
   "id": "a320c1ac",
   "metadata": {},
   "outputs": [
    {
     "name": "stdout",
     "output_type": "stream",
     "text": [
      "<class 'pandas.core.frame.DataFrame'>\n",
      "Int64Index: 1470 entries, 25962 to 27431\n",
      "Data columns (total 3 columns):\n",
      " #   Column    Non-Null Count  Dtype \n",
      "---  ------    --------------  ----- \n",
      " 0   vote      1395 non-null   object\n",
      " 1   netusoft  1470 non-null   object\n",
      " 2   cntry     1470 non-null   object\n",
      "dtypes: object(3)\n",
      "memory usage: 45.9+ KB\n"
     ]
    }
   ],
   "source": [
    "#check missings\n",
    "ess_nl.info()"
   ]
  },
  {
   "cell_type": "code",
   "execution_count": 20,
   "id": "51c7e807",
   "metadata": {},
   "outputs": [
    {
     "data": {
      "text/plain": [
       "75"
      ]
     },
     "execution_count": 20,
     "metadata": {},
     "output_type": "execute_result"
    }
   ],
   "source": [
    "ess_nl['vote'].isnull().sum()"
   ]
  },
  {
   "cell_type": "markdown",
   "id": "8e3182b4",
   "metadata": {},
   "source": [
    "## Chi square test and Cramer's V"
   ]
  },
  {
   "cell_type": "code",
   "execution_count": 21,
   "id": "d9032341",
   "metadata": {},
   "outputs": [],
   "source": [
    "#Convert to categorical\n",
    "ess_nl['vote']=ess_nl['vote'].astype('category')"
   ]
  },
  {
   "cell_type": "code",
   "execution_count": 22,
   "id": "b4339224",
   "metadata": {},
   "outputs": [],
   "source": [
    "#Convert to categorical\n",
    "ess_nl[\"netusoft\"] = ess_nl[\"netusoft\"].astype('category')"
   ]
  },
  {
   "cell_type": "markdown",
   "id": "b100462a",
   "metadata": {},
   "source": [
    "#### Cross tab with column percentages\n"
   ]
  },
  {
   "cell_type": "code",
   "execution_count": 23,
   "id": "904e83d9",
   "metadata": {},
   "outputs": [
    {
     "data": {
      "text/html": [
       "<div>\n",
       "<style scoped>\n",
       "    .dataframe tbody tr th:only-of-type {\n",
       "        vertical-align: middle;\n",
       "    }\n",
       "\n",
       "    .dataframe tbody tr th {\n",
       "        vertical-align: top;\n",
       "    }\n",
       "\n",
       "    .dataframe thead tr th {\n",
       "        text-align: left;\n",
       "    }\n",
       "\n",
       "    .dataframe thead tr:last-of-type th {\n",
       "        text-align: right;\n",
       "    }\n",
       "</style>\n",
       "<table border=\"1\" class=\"dataframe\">\n",
       "  <thead>\n",
       "    <tr>\n",
       "      <th></th>\n",
       "      <th colspan=\"6\" halign=\"left\">netusoft</th>\n",
       "    </tr>\n",
       "    <tr>\n",
       "      <th>netusoft</th>\n",
       "      <th>a few times a week</th>\n",
       "      <th>every day</th>\n",
       "      <th>most days</th>\n",
       "      <th>never</th>\n",
       "      <th>only occasionally</th>\n",
       "      <th>All</th>\n",
       "    </tr>\n",
       "    <tr>\n",
       "      <th>vote</th>\n",
       "      <th></th>\n",
       "      <th></th>\n",
       "      <th></th>\n",
       "      <th></th>\n",
       "      <th></th>\n",
       "      <th></th>\n",
       "    </tr>\n",
       "  </thead>\n",
       "  <tbody>\n",
       "    <tr>\n",
       "      <th>no</th>\n",
       "      <td>16.0</td>\n",
       "      <td>9.49</td>\n",
       "      <td>8.11</td>\n",
       "      <td>27.27</td>\n",
       "      <td>15.0</td>\n",
       "      <td>10.04</td>\n",
       "    </tr>\n",
       "    <tr>\n",
       "      <th>yes</th>\n",
       "      <td>84.0</td>\n",
       "      <td>90.51</td>\n",
       "      <td>91.89</td>\n",
       "      <td>72.73</td>\n",
       "      <td>85.0</td>\n",
       "      <td>89.96</td>\n",
       "    </tr>\n",
       "    <tr>\n",
       "      <th>All</th>\n",
       "      <td>100.0</td>\n",
       "      <td>100.00</td>\n",
       "      <td>100.00</td>\n",
       "      <td>100.00</td>\n",
       "      <td>100.0</td>\n",
       "      <td>100.00</td>\n",
       "    </tr>\n",
       "  </tbody>\n",
       "</table>\n",
       "</div>"
      ],
      "text/plain": [
       "                   netusoft                                                \\\n",
       "netusoft a few times a week every day most days   never only occasionally   \n",
       "vote                                                                        \n",
       "no                     16.0      9.49      8.11   27.27              15.0   \n",
       "yes                    84.0     90.51     91.89   72.73              85.0   \n",
       "All                   100.0    100.00    100.00  100.00             100.0   \n",
       "\n",
       "                  \n",
       "netusoft     All  \n",
       "vote              \n",
       "no         10.04  \n",
       "yes        89.96  \n",
       "All       100.00  "
      ]
     },
     "execution_count": 23,
     "metadata": {},
     "output_type": "execute_result"
    }
   ],
   "source": [
    "crosstab = rp.crosstab(ess_nl['vote'], ess_nl['netusoft'], prop = \"col\")\n",
    "crosstab"
   ]
  },
  {
   "cell_type": "markdown",
   "id": "ffebf89e",
   "metadata": {},
   "source": [
    "There appears to be an association: more frequent the internet use, more likely to vote."
   ]
  },
  {
   "cell_type": "code",
   "execution_count": 25,
   "id": "4a12c5bd",
   "metadata": {},
   "outputs": [
    {
     "data": {
      "text/plain": [
       "<seaborn.axisgrid.FacetGrid at 0x1ffd156b850>"
      ]
     },
     "execution_count": 25,
     "metadata": {},
     "output_type": "execute_result"
    },
    {
     "data": {
      "image/png": "[encoded data removed]",
      "text/plain": [
       "<Figure size 413.25x360 with 1 Axes>"
      ]
     },
     "metadata": {
      "needs_background": "light"
     },
     "output_type": "display_data"
    }
   ],
   "source": [
    "sn.displot(ess_nl, x=\"netusoft\", hue=\"vote\", multiple=\"dodge\", stat=\"probability\")"
   ]
  },
  {
   "cell_type": "code",
   "execution_count": 26,
   "id": "c6d9eb34",
   "metadata": {},
   "outputs": [],
   "source": [
    "obs_counts, chi2, exp_counts = rp.crosstab(ess_nl['vote'], ess_nl['netusoft'], test = 'chi-square', expected_freqs = True,\n",
    "                                           margins=False)"
   ]
  },
  {
   "cell_type": "code",
   "execution_count": 27,
   "id": "effdac85",
   "metadata": {},
   "outputs": [
    {
     "data": {
      "text/html": [
       "<div>\n",
       "<style scoped>\n",
       "    .dataframe tbody tr th:only-of-type {\n",
       "        vertical-align: middle;\n",
       "    }\n",
       "\n",
       "    .dataframe tbody tr th {\n",
       "        vertical-align: top;\n",
       "    }\n",
       "\n",
       "    .dataframe thead tr th {\n",
       "        text-align: left;\n",
       "    }\n",
       "\n",
       "    .dataframe thead tr:last-of-type th {\n",
       "        text-align: right;\n",
       "    }\n",
       "</style>\n",
       "<table border=\"1\" class=\"dataframe\">\n",
       "  <thead>\n",
       "    <tr>\n",
       "      <th></th>\n",
       "      <th colspan=\"5\" halign=\"left\">netusoft</th>\n",
       "    </tr>\n",
       "    <tr>\n",
       "      <th>netusoft</th>\n",
       "      <th>a few times a week</th>\n",
       "      <th>every day</th>\n",
       "      <th>most days</th>\n",
       "      <th>never</th>\n",
       "      <th>only occasionally</th>\n",
       "    </tr>\n",
       "    <tr>\n",
       "      <th>vote</th>\n",
       "      <th></th>\n",
       "      <th></th>\n",
       "      <th></th>\n",
       "      <th></th>\n",
       "      <th></th>\n",
       "    </tr>\n",
       "  </thead>\n",
       "  <tbody>\n",
       "    <tr>\n",
       "      <th>no</th>\n",
       "      <td>4</td>\n",
       "      <td>118</td>\n",
       "      <td>6</td>\n",
       "      <td>9</td>\n",
       "      <td>3</td>\n",
       "    </tr>\n",
       "    <tr>\n",
       "      <th>yes</th>\n",
       "      <td>21</td>\n",
       "      <td>1125</td>\n",
       "      <td>68</td>\n",
       "      <td>24</td>\n",
       "      <td>17</td>\n",
       "    </tr>\n",
       "  </tbody>\n",
       "</table>\n",
       "</div>"
      ],
      "text/plain": [
       "                   netusoft                                            \n",
       "netusoft a few times a week every day most days never only occasionally\n",
       "vote                                                                   \n",
       "no                        4       118         6     9                 3\n",
       "yes                      21      1125        68    24                17"
      ]
     },
     "execution_count": 27,
     "metadata": {},
     "output_type": "execute_result"
    }
   ],
   "source": [
    "#Observed frequencies\n",
    "obs_counts"
   ]
  },
  {
   "cell_type": "code",
   "execution_count": 28,
   "id": "3e599075",
   "metadata": {},
   "outputs": [
    {
     "data": {
      "text/html": [
       "<div>\n",
       "<style scoped>\n",
       "    .dataframe tbody tr th:only-of-type {\n",
       "        vertical-align: middle;\n",
       "    }\n",
       "\n",
       "    .dataframe tbody tr th {\n",
       "        vertical-align: top;\n",
       "    }\n",
       "\n",
       "    .dataframe thead tr th {\n",
       "        text-align: left;\n",
       "    }\n",
       "\n",
       "    .dataframe thead tr:last-of-type th {\n",
       "        text-align: right;\n",
       "    }\n",
       "</style>\n",
       "<table border=\"1\" class=\"dataframe\">\n",
       "  <thead>\n",
       "    <tr>\n",
       "      <th></th>\n",
       "      <th colspan=\"5\" halign=\"left\">netusoft</th>\n",
       "    </tr>\n",
       "    <tr>\n",
       "      <th>netusoft</th>\n",
       "      <th>a few times a week</th>\n",
       "      <th>every day</th>\n",
       "      <th>most days</th>\n",
       "      <th>never</th>\n",
       "      <th>only occasionally</th>\n",
       "    </tr>\n",
       "    <tr>\n",
       "      <th>vote</th>\n",
       "      <th></th>\n",
       "      <th></th>\n",
       "      <th></th>\n",
       "      <th></th>\n",
       "      <th></th>\n",
       "    </tr>\n",
       "  </thead>\n",
       "  <tbody>\n",
       "    <tr>\n",
       "      <th>no</th>\n",
       "      <td>2.508961</td>\n",
       "      <td>124.74552</td>\n",
       "      <td>7.426523</td>\n",
       "      <td>3.311828</td>\n",
       "      <td>2.007168</td>\n",
       "    </tr>\n",
       "    <tr>\n",
       "      <th>yes</th>\n",
       "      <td>22.491039</td>\n",
       "      <td>1118.25448</td>\n",
       "      <td>66.573477</td>\n",
       "      <td>29.688172</td>\n",
       "      <td>17.992832</td>\n",
       "    </tr>\n",
       "  </tbody>\n",
       "</table>\n",
       "</div>"
      ],
      "text/plain": [
       "                   netusoft                                    \\\n",
       "netusoft a few times a week   every day  most days      never   \n",
       "vote                                                            \n",
       "no                 2.508961   124.74552   7.426523   3.311828   \n",
       "yes               22.491039  1118.25448  66.573477  29.688172   \n",
       "\n",
       "                            \n",
       "netusoft only occasionally  \n",
       "vote                        \n",
       "no                2.007168  \n",
       "yes              17.992832  "
      ]
     },
     "execution_count": 28,
     "metadata": {},
     "output_type": "execute_result"
    }
   ],
   "source": [
    "#Expected frequencies\n",
    "exp_counts"
   ]
  },
  {
   "cell_type": "markdown",
   "id": "16ee91e7",
   "metadata": {},
   "source": [
    "Some expected frequencies are < 5. "
   ]
  },
  {
   "cell_type": "code",
   "execution_count": 29,
   "id": "0b344c35",
   "metadata": {},
   "outputs": [
    {
     "data": {
      "text/html": [
       "<div>\n",
       "<style scoped>\n",
       "    .dataframe tbody tr th:only-of-type {\n",
       "        vertical-align: middle;\n",
       "    }\n",
       "\n",
       "    .dataframe tbody tr th {\n",
       "        vertical-align: top;\n",
       "    }\n",
       "\n",
       "    .dataframe thead th {\n",
       "        text-align: right;\n",
       "    }\n",
       "</style>\n",
       "<table border=\"1\" class=\"dataframe\">\n",
       "  <thead>\n",
       "    <tr style=\"text-align: right;\">\n",
       "      <th></th>\n",
       "      <th>Chi-square test</th>\n",
       "      <th>results</th>\n",
       "    </tr>\n",
       "  </thead>\n",
       "  <tbody>\n",
       "    <tr>\n",
       "      <th>0</th>\n",
       "      <td>Pearson Chi-square ( 4.0) =</td>\n",
       "      <td>13.1003</td>\n",
       "    </tr>\n",
       "    <tr>\n",
       "      <th>1</th>\n",
       "      <td>p-value =</td>\n",
       "      <td>0.0108</td>\n",
       "    </tr>\n",
       "    <tr>\n",
       "      <th>2</th>\n",
       "      <td>Cramer's V =</td>\n",
       "      <td>0.0969</td>\n",
       "    </tr>\n",
       "  </tbody>\n",
       "</table>\n",
       "</div>"
      ],
      "text/plain": [
       "                Chi-square test  results\n",
       "0  Pearson Chi-square ( 4.0) =   13.1003\n",
       "1                    p-value =    0.0108\n",
       "2                 Cramer's V =    0.0969"
      ]
     },
     "execution_count": 29,
     "metadata": {},
     "output_type": "execute_result"
    }
   ],
   "source": [
    "chi2"
   ]
  },
  {
   "cell_type": "markdown",
   "id": "7ee16d18",
   "metadata": {},
   "source": [
    "Statistically significant association between vote and internet use frequency, Chi2(4) = 13.10, p <0.05. \n",
    "The strength is, however, weak Cramer's V = .10."
   ]
  },
  {
   "cell_type": "code",
   "execution_count": 30,
   "id": "30ce688c",
   "metadata": {},
   "outputs": [],
   "source": [
    "ess_nl.to_csv('working_data.csv', index=False)"
   ]
  }
 ],
 "metadata": {
  "kernelspec": {
   "display_name": "Python 3 (ipykernel)",
   "language": "python",
   "name": "python3"
  },
  "language_info": {
   "codemirror_mode": {
    "name": "ipython",
    "version": 3
   },
   "file_extension": ".py",
   "mimetype": "text/x-python",
   "name": "python",
   "nbconvert_exporter": "python",
   "pygments_lexer": "ipython3",
   "version": "3.9.7"
  }
 },
 "nbformat": 4,
 "nbformat_minor": 5
}
